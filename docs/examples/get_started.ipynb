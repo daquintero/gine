{
 "cells": [
  {
   "cell_type": "markdown",
   "id": "e79be93f-4f27-453e-964a-5fcaa657286f",
   "metadata": {},
   "source": [
    "# Get Started with `gine`"
   ]
  },
  {
   "cell_type": "markdown",
   "id": "b17359fd-60e2-4ac7-bff6-67e96e2d1bf9",
   "metadata": {},
   "source": [
    "## GDSFactory Integration"
   ]
  },
  {
   "cell_type": "code",
   "execution_count": 2,
   "id": "ef490c3c-7126-4c59-96cc-9be605e72ea4",
   "metadata": {
    "tags": []
   },
   "outputs": [
    {
     "name": "stdout",
     "output_type": "stream",
     "text": [
      "\u001b[32m2023-06-12 08:58:15.788\u001b[0m | \u001b[1mINFO    \u001b[0m | \u001b[36mgdsfactory.config\u001b[0m:\u001b[36m__init__\u001b[0m:\u001b[36m204\u001b[0m - \u001b[1mLogLevel: INFO\u001b[0m\n"
     ]
    }
   ],
   "source": [
    "import gdsfactory as gf"
   ]
  },
  {
   "cell_type": "markdown",
   "id": "5a3c1fba-10c1-40a4-90a5-7e9959a6fd31",
   "metadata": {},
   "source": [
    "Extract a component netlist:"
   ]
  },
  {
   "cell_type": "code",
   "execution_count": 4,
   "id": "86ef776f-03b2-4339-811d-6a2e75ee99b2",
   "metadata": {
    "tags": []
   },
   "outputs": [
    {
     "ename": "TypeError",
     "evalue": "get_polygons() got an unexpected keyword argument 'as_shapely_merged'",
     "output_type": "error",
     "traceback": [
      "\u001b[1;31m---------------------------------------------------------------------------\u001b[0m",
      "\u001b[1;31mTypeError\u001b[0m                                 Traceback (most recent call last)",
      "Cell \u001b[1;32mIn[4], line 1\u001b[0m\n\u001b[1;32m----> 1\u001b[0m mzi \u001b[38;5;241m=\u001b[39m \u001b[43mgf\u001b[49m\u001b[38;5;241;43m.\u001b[39;49m\u001b[43mcomponents\u001b[49m\u001b[38;5;241;43m.\u001b[39;49m\u001b[43mmzi2x2_2x2\u001b[49m\u001b[43m(\u001b[49m\u001b[43m)\u001b[49m\n\u001b[0;32m      2\u001b[0m mzi\n",
      "File \u001b[1;32m~\\Documents\\phd\\software\\gdsfactory\\gdsfactory\\cell.py:176\u001b[0m, in \u001b[0;36mcell_without_validator.<locals>._cell\u001b[1;34m(*args, **kwargs)\u001b[0m\n\u001b[0;32m    171\u001b[0m \u001b[38;5;28;01mif\u001b[39;00m \u001b[38;5;129;01mnot\u001b[39;00m \u001b[38;5;28mcallable\u001b[39m(func):\n\u001b[0;32m    172\u001b[0m     \u001b[38;5;28;01mraise\u001b[39;00m \u001b[38;5;167;01mValueError\u001b[39;00m(\n\u001b[0;32m    173\u001b[0m         \u001b[38;5;124mf\u001b[39m\u001b[38;5;124m\"\u001b[39m\u001b[38;5;132;01m{\u001b[39;00mfunc\u001b[38;5;132;01m!r}\u001b[39;00m\u001b[38;5;124m is not callable! @cell decorator is only for functions\u001b[39m\u001b[38;5;124m\"\u001b[39m\n\u001b[0;32m    174\u001b[0m     )\n\u001b[1;32m--> 176\u001b[0m component \u001b[38;5;241m=\u001b[39m func(\u001b[38;5;241m*\u001b[39margs, \u001b[38;5;241m*\u001b[39m\u001b[38;5;241m*\u001b[39mkwargs)\n\u001b[0;32m    178\u001b[0m \u001b[38;5;66;03m# if the component is already in the cache, but under a different alias,\u001b[39;00m\n\u001b[0;32m    179\u001b[0m \u001b[38;5;66;03m# make sure we use a copy, so we don't run into mutability errors\u001b[39;00m\n\u001b[0;32m    180\u001b[0m \u001b[38;5;28;01mif\u001b[39;00m \u001b[38;5;28mid\u001b[39m(component) \u001b[38;5;129;01min\u001b[39;00m [\u001b[38;5;28mid\u001b[39m(v) \u001b[38;5;28;01mfor\u001b[39;00m v \u001b[38;5;129;01min\u001b[39;00m CACHE\u001b[38;5;241m.\u001b[39mvalues()]:\n",
      "File \u001b[1;32m~\\anaconda3\\lib\\site-packages\\pydantic\\decorator.py:40\u001b[0m, in \u001b[0;36mpydantic.decorator.validate_arguments.validate.wrapper_function\u001b[1;34m()\u001b[0m\n",
      "File \u001b[1;32m~\\anaconda3\\lib\\site-packages\\pydantic\\decorator.py:134\u001b[0m, in \u001b[0;36mpydantic.decorator.ValidatedFunction.call\u001b[1;34m()\u001b[0m\n",
      "File \u001b[1;32m~\\anaconda3\\lib\\site-packages\\pydantic\\decorator.py:206\u001b[0m, in \u001b[0;36mpydantic.decorator.ValidatedFunction.execute\u001b[1;34m()\u001b[0m\n",
      "File \u001b[1;32m~\\Documents\\phd\\software\\gdsfactory\\gdsfactory\\components\\mzi.py:95\u001b[0m, in \u001b[0;36mmzi\u001b[1;34m(delta_length, length_y, length_x, bend, straight, straight_y, straight_x_top, straight_x_bot, splitter, combiner, with_splitter, port_e1_splitter, port_e0_splitter, port_e1_combiner, port_e0_combiner, nbends, cross_section, cross_section_x_top, cross_section_x_bot, mirror_bot, add_optical_ports_arms)\u001b[0m\n\u001b[0;32m     92\u001b[0m cross_section_x_top \u001b[38;5;241m=\u001b[39m cross_section_x_top \u001b[38;5;129;01mor\u001b[39;00m cross_section\n\u001b[0;32m     94\u001b[0m bend_spec \u001b[38;5;241m=\u001b[39m bend\n\u001b[1;32m---> 95\u001b[0m bend \u001b[38;5;241m=\u001b[39m \u001b[43mgf\u001b[49m\u001b[38;5;241;43m.\u001b[39;49m\u001b[43mget_component\u001b[49m\u001b[43m(\u001b[49m\u001b[43mbend\u001b[49m\u001b[43m,\u001b[49m\u001b[43m \u001b[49m\u001b[43mcross_section\u001b[49m\u001b[38;5;241;43m=\u001b[39;49m\u001b[43mcross_section\u001b[49m\u001b[43m)\u001b[49m\n\u001b[0;32m     97\u001b[0m c \u001b[38;5;241m=\u001b[39m Component()\n\u001b[0;32m     98\u001b[0m cp1 \u001b[38;5;241m=\u001b[39m gf\u001b[38;5;241m.\u001b[39mget_component(splitter)\n",
      "File \u001b[1;32m~\\Documents\\phd\\software\\gdsfactory\\gdsfactory\\pdk.py:622\u001b[0m, in \u001b[0;36mget_component\u001b[1;34m(component, **kwargs)\u001b[0m\n\u001b[0;32m    621\u001b[0m \u001b[38;5;28;01mdef\u001b[39;00m \u001b[38;5;21mget_component\u001b[39m(component: ComponentSpec, \u001b[38;5;241m*\u001b[39m\u001b[38;5;241m*\u001b[39mkwargs) \u001b[38;5;241m-\u001b[39m\u001b[38;5;241m>\u001b[39m Component:\n\u001b[1;32m--> 622\u001b[0m     \u001b[38;5;28;01mreturn\u001b[39;00m get_active_pdk()\u001b[38;5;241m.\u001b[39mget_component(component, \u001b[38;5;241m*\u001b[39m\u001b[38;5;241m*\u001b[39mkwargs)\n",
      "File \u001b[1;32m~\\Documents\\phd\\software\\gdsfactory\\gdsfactory\\pdk.py:421\u001b[0m, in \u001b[0;36mPdk.get_component\u001b[1;34m(self, component, **kwargs)\u001b[0m\n\u001b[0;32m    419\u001b[0m \u001b[38;5;28;01mdef\u001b[39;00m \u001b[38;5;21mget_component\u001b[39m(\u001b[38;5;28mself\u001b[39m, component: ComponentSpec, \u001b[38;5;241m*\u001b[39m\u001b[38;5;241m*\u001b[39mkwargs) \u001b[38;5;241m-\u001b[39m\u001b[38;5;241m>\u001b[39m Component:\n\u001b[0;32m    420\u001b[0m \u001b[38;5;250m    \u001b[39m\u001b[38;5;124;03m\"\"\"Returns component from a component spec.\"\"\"\u001b[39;00m\n\u001b[1;32m--> 421\u001b[0m     \u001b[38;5;28;01mreturn\u001b[39;00m \u001b[38;5;28mself\u001b[39m\u001b[38;5;241m.\u001b[39m_get_component(\n\u001b[0;32m    422\u001b[0m         component\u001b[38;5;241m=\u001b[39mcomponent, cells\u001b[38;5;241m=\u001b[39m\u001b[38;5;28mself\u001b[39m\u001b[38;5;241m.\u001b[39mcells, containers\u001b[38;5;241m=\u001b[39m\u001b[38;5;28mself\u001b[39m\u001b[38;5;241m.\u001b[39mcontainers, \u001b[38;5;241m*\u001b[39m\u001b[38;5;241m*\u001b[39mkwargs\n\u001b[0;32m    423\u001b[0m     )\n",
      "File \u001b[1;32m~\\Documents\\phd\\software\\gdsfactory\\gdsfactory\\pdk.py:451\u001b[0m, in \u001b[0;36mPdk._get_component\u001b[1;34m(self, component, cells, containers, **kwargs)\u001b[0m\n\u001b[0;32m    449\u001b[0m     \u001b[38;5;28;01mreturn\u001b[39;00m component\n\u001b[0;32m    450\u001b[0m \u001b[38;5;28;01melif\u001b[39;00m \u001b[38;5;28mcallable\u001b[39m(component):\n\u001b[1;32m--> 451\u001b[0m     \u001b[38;5;28;01mreturn\u001b[39;00m component(\u001b[38;5;241m*\u001b[39m\u001b[38;5;241m*\u001b[39mkwargs)\n\u001b[0;32m    452\u001b[0m \u001b[38;5;28;01melif\u001b[39;00m \u001b[38;5;28misinstance\u001b[39m(component, \u001b[38;5;28mstr\u001b[39m):\n\u001b[0;32m    453\u001b[0m     \u001b[38;5;28;01mif\u001b[39;00m component \u001b[38;5;129;01mnot\u001b[39;00m \u001b[38;5;129;01min\u001b[39;00m cells_and_containers:\n",
      "File \u001b[1;32m~\\Documents\\phd\\software\\gdsfactory\\gdsfactory\\cell.py:176\u001b[0m, in \u001b[0;36mcell_without_validator.<locals>._cell\u001b[1;34m(*args, **kwargs)\u001b[0m\n\u001b[0;32m    171\u001b[0m \u001b[38;5;28;01mif\u001b[39;00m \u001b[38;5;129;01mnot\u001b[39;00m \u001b[38;5;28mcallable\u001b[39m(func):\n\u001b[0;32m    172\u001b[0m     \u001b[38;5;28;01mraise\u001b[39;00m \u001b[38;5;167;01mValueError\u001b[39;00m(\n\u001b[0;32m    173\u001b[0m         \u001b[38;5;124mf\u001b[39m\u001b[38;5;124m\"\u001b[39m\u001b[38;5;132;01m{\u001b[39;00mfunc\u001b[38;5;132;01m!r}\u001b[39;00m\u001b[38;5;124m is not callable! @cell decorator is only for functions\u001b[39m\u001b[38;5;124m\"\u001b[39m\n\u001b[0;32m    174\u001b[0m     )\n\u001b[1;32m--> 176\u001b[0m component \u001b[38;5;241m=\u001b[39m func(\u001b[38;5;241m*\u001b[39margs, \u001b[38;5;241m*\u001b[39m\u001b[38;5;241m*\u001b[39mkwargs)\n\u001b[0;32m    178\u001b[0m \u001b[38;5;66;03m# if the component is already in the cache, but under a different alias,\u001b[39;00m\n\u001b[0;32m    179\u001b[0m \u001b[38;5;66;03m# make sure we use a copy, so we don't run into mutability errors\u001b[39;00m\n\u001b[0;32m    180\u001b[0m \u001b[38;5;28;01mif\u001b[39;00m \u001b[38;5;28mid\u001b[39m(component) \u001b[38;5;129;01min\u001b[39;00m [\u001b[38;5;28mid\u001b[39m(v) \u001b[38;5;28;01mfor\u001b[39;00m v \u001b[38;5;129;01min\u001b[39;00m CACHE\u001b[38;5;241m.\u001b[39mvalues()]:\n",
      "File \u001b[1;32m~\\anaconda3\\lib\\site-packages\\pydantic\\decorator.py:40\u001b[0m, in \u001b[0;36mpydantic.decorator.validate_arguments.validate.wrapper_function\u001b[1;34m()\u001b[0m\n",
      "File \u001b[1;32m~\\anaconda3\\lib\\site-packages\\pydantic\\decorator.py:134\u001b[0m, in \u001b[0;36mpydantic.decorator.ValidatedFunction.call\u001b[1;34m()\u001b[0m\n",
      "File \u001b[1;32m~\\anaconda3\\lib\\site-packages\\pydantic\\decorator.py:206\u001b[0m, in \u001b[0;36mpydantic.decorator.ValidatedFunction.execute\u001b[1;34m()\u001b[0m\n",
      "File \u001b[1;32m~\\Documents\\phd\\software\\gdsfactory\\gdsfactory\\components\\bend_euler.py:102\u001b[0m, in \u001b[0;36mbend_euler\u001b[1;34m(angle, p, with_arc_floorplan, npoints, direction, with_bbox, cross_section, **kwargs)\u001b[0m\n\u001b[0;32m     99\u001b[0m \u001b[38;5;28;01mif\u001b[39;00m direction \u001b[38;5;241m==\u001b[39m \u001b[38;5;124m\"\u001b[39m\u001b[38;5;124mcw\u001b[39m\u001b[38;5;124m\"\u001b[39m:\n\u001b[0;32m    100\u001b[0m     ref\u001b[38;5;241m.\u001b[39mmirror(p1\u001b[38;5;241m=\u001b[39m[\u001b[38;5;241m0\u001b[39m, \u001b[38;5;241m0\u001b[39m], p2\u001b[38;5;241m=\u001b[39m[\u001b[38;5;241m1\u001b[39m, \u001b[38;5;241m0\u001b[39m])\n\u001b[1;32m--> 102\u001b[0m \u001b[43mc\u001b[49m\u001b[38;5;241;43m.\u001b[39;49m\u001b[43mabsorb\u001b[49m\u001b[43m(\u001b[49m\u001b[43mref\u001b[49m\u001b[43m)\u001b[49m\n\u001b[0;32m    103\u001b[0m \u001b[38;5;28;01mreturn\u001b[39;00m c\n",
      "File \u001b[1;32m~\\Documents\\phd\\software\\gdsfactory\\gdsfactory\\component.py:2188\u001b[0m, in \u001b[0;36mComponent.absorb\u001b[1;34m(self, reference)\u001b[0m\n\u001b[0;32m   2184\u001b[0m \u001b[38;5;28;01mif\u001b[39;00m reference \u001b[38;5;129;01mnot\u001b[39;00m \u001b[38;5;129;01min\u001b[39;00m \u001b[38;5;28mself\u001b[39m\u001b[38;5;241m.\u001b[39mreferences:\n\u001b[0;32m   2185\u001b[0m     \u001b[38;5;28;01mraise\u001b[39;00m \u001b[38;5;167;01mValueError\u001b[39;00m(\n\u001b[0;32m   2186\u001b[0m         \u001b[38;5;124m\"\u001b[39m\u001b[38;5;124mThe reference you asked to absorb does not exist in this Component.\u001b[39m\u001b[38;5;124m\"\u001b[39m\n\u001b[0;32m   2187\u001b[0m     )\n\u001b[1;32m-> 2188\u001b[0m ref_polygons \u001b[38;5;241m=\u001b[39m \u001b[43mreference\u001b[49m\u001b[38;5;241;43m.\u001b[39;49m\u001b[43mget_polygons\u001b[49m\u001b[43m(\u001b[49m\n\u001b[0;32m   2189\u001b[0m \u001b[43m    \u001b[49m\u001b[43mby_spec\u001b[49m\u001b[38;5;241;43m=\u001b[39;49m\u001b[38;5;28;43;01mFalse\u001b[39;49;00m\u001b[43m,\u001b[49m\u001b[43m \u001b[49m\u001b[43minclude_paths\u001b[49m\u001b[38;5;241;43m=\u001b[39;49m\u001b[38;5;28;43;01mFalse\u001b[39;49;00m\u001b[43m,\u001b[49m\u001b[43m \u001b[49m\u001b[43mas_array\u001b[49m\u001b[38;5;241;43m=\u001b[39;49m\u001b[38;5;28;43;01mFalse\u001b[39;49;00m\n\u001b[0;32m   2190\u001b[0m \u001b[43m\u001b[49m\u001b[43m)\u001b[49m\n\u001b[0;32m   2191\u001b[0m \u001b[38;5;28mself\u001b[39m\u001b[38;5;241m.\u001b[39m_add_polygons(\u001b[38;5;241m*\u001b[39mref_polygons)\n\u001b[0;32m   2193\u001b[0m \u001b[38;5;28mself\u001b[39m\u001b[38;5;241m.\u001b[39madd(reference\u001b[38;5;241m.\u001b[39mget_labels())\n",
      "File \u001b[1;32m~\\Documents\\phd\\software\\gdsfactory\\gdsfactory\\component_reference.py:334\u001b[0m, in \u001b[0;36mComponentReference.get_polygons\u001b[1;34m(self, by_spec, depth, include_paths, as_array, as_shapely, as_shapely_merged)\u001b[0m\n\u001b[0;32m    295\u001b[0m \u001b[38;5;28;01mdef\u001b[39;00m \u001b[38;5;21mget_polygons\u001b[39m(\n\u001b[0;32m    296\u001b[0m     \u001b[38;5;28mself\u001b[39m,\n\u001b[0;32m    297\u001b[0m     by_spec: \u001b[38;5;28mbool\u001b[39m \u001b[38;5;241m=\u001b[39m \u001b[38;5;28;01mFalse\u001b[39;00m,\n\u001b[1;32m   (...)\u001b[0m\n\u001b[0;32m    302\u001b[0m     as_shapely_merged: \u001b[38;5;28mbool\u001b[39m \u001b[38;5;241m=\u001b[39m \u001b[38;5;28;01mFalse\u001b[39;00m,\n\u001b[0;32m    303\u001b[0m ) \u001b[38;5;241m-\u001b[39m\u001b[38;5;241m>\u001b[39m Union[List[Polygon], Dict[Tuple[\u001b[38;5;28mint\u001b[39m, \u001b[38;5;28mint\u001b[39m], List[Polygon]]]:\n\u001b[0;32m    304\u001b[0m \u001b[38;5;250m    \u001b[39m\u001b[38;5;124;03m\"\"\"Return the list of polygons created by this reference.\u001b[39;00m\n\u001b[0;32m    305\u001b[0m \n\u001b[0;32m    306\u001b[0m \u001b[38;5;124;03m    Args:\u001b[39;00m\n\u001b[1;32m   (...)\u001b[0m\n\u001b[0;32m    332\u001b[0m \u001b[38;5;124;03m        the result by computing their polygonal boundary.\u001b[39;00m\n\u001b[0;32m    333\u001b[0m \u001b[38;5;124;03m    \"\"\"\u001b[39;00m\n\u001b[1;32m--> 334\u001b[0m     \u001b[38;5;28;01mreturn\u001b[39;00m \u001b[43mget_polygons\u001b[49m\u001b[43m(\u001b[49m\n\u001b[0;32m    335\u001b[0m \u001b[43m        \u001b[49m\u001b[43minstance\u001b[49m\u001b[38;5;241;43m=\u001b[39;49m\u001b[38;5;28;43mself\u001b[39;49m\u001b[43m,\u001b[49m\n\u001b[0;32m    336\u001b[0m \u001b[43m        \u001b[49m\u001b[43mby_spec\u001b[49m\u001b[38;5;241;43m=\u001b[39;49m\u001b[43mby_spec\u001b[49m\u001b[43m,\u001b[49m\n\u001b[0;32m    337\u001b[0m \u001b[43m        \u001b[49m\u001b[43mdepth\u001b[49m\u001b[38;5;241;43m=\u001b[39;49m\u001b[43mdepth\u001b[49m\u001b[43m,\u001b[49m\n\u001b[0;32m    338\u001b[0m \u001b[43m        \u001b[49m\u001b[43minclude_paths\u001b[49m\u001b[38;5;241;43m=\u001b[39;49m\u001b[43minclude_paths\u001b[49m\u001b[43m,\u001b[49m\n\u001b[0;32m    339\u001b[0m \u001b[43m        \u001b[49m\u001b[43mas_array\u001b[49m\u001b[38;5;241;43m=\u001b[39;49m\u001b[43mas_array\u001b[49m\u001b[43m,\u001b[49m\n\u001b[0;32m    340\u001b[0m \u001b[43m        \u001b[49m\u001b[43mas_shapely\u001b[49m\u001b[38;5;241;43m=\u001b[39;49m\u001b[43mas_shapely\u001b[49m\u001b[43m,\u001b[49m\n\u001b[0;32m    341\u001b[0m \u001b[43m        \u001b[49m\u001b[43mas_shapely_merged\u001b[49m\u001b[38;5;241;43m=\u001b[39;49m\u001b[43mas_shapely_merged\u001b[49m\u001b[43m,\u001b[49m\n\u001b[0;32m    342\u001b[0m \u001b[43m    \u001b[49m\u001b[43m)\u001b[49m\n",
      "\u001b[1;31mTypeError\u001b[0m: get_polygons() got an unexpected keyword argument 'as_shapely_merged'"
     ]
    }
   ],
   "source": [
    "mzi = gf.components.mzi2x2_2x2()\n",
    "mzi"
   ]
  },
  {
   "cell_type": "code",
   "execution_count": null,
   "id": "e02bde5c-5575-411d-8a7a-b74c1a86e9fe",
   "metadata": {},
   "outputs": [],
   "source": []
  }
 ],
 "metadata": {
  "kernelspec": {
   "display_name": "Python 3 (ipykernel)",
   "language": "python",
   "name": "python3"
  },
  "language_info": {
   "codemirror_mode": {
    "name": "ipython",
    "version": 3
   },
   "file_extension": ".py",
   "mimetype": "text/x-python",
   "name": "python",
   "nbconvert_exporter": "python",
   "pygments_lexer": "ipython3",
   "version": "3.9.16"
  }
 },
 "nbformat": 4,
 "nbformat_minor": 5
}
