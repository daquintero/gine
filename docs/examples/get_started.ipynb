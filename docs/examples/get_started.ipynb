{
 "cells": [
  {
   "cell_type": "markdown",
   "id": "e79be93f-4f27-453e-964a-5fcaa657286f",
   "metadata": {},
   "source": [
    "# Get Started with `gine`"
   ]
  },
  {
   "cell_type": "markdown",
   "id": "b17359fd-60e2-4ac7-bff6-67e96e2d1bf9",
   "metadata": {},
   "source": [
    "## GDSFactory Integration"
   ]
  },
  {
   "cell_type": "code",
   "execution_count": 1,
   "id": "ef490c3c-7126-4c59-96cc-9be605e72ea4",
   "metadata": {
    "tags": []
   },
   "outputs": [],
   "source": [
    "import gdsfactory as gf\n",
    "import gine"
   ]
  },
  {
   "cell_type": "markdown",
   "id": "5a3c1fba-10c1-40a4-90a5-7e9959a6fd31",
   "metadata": {},
   "source": [
    "Extract a component netlist:"
   ]
  },
  {
   "cell_type": "code",
   "execution_count": 2,
   "id": "6a408a9a-4ca1-4540-aaf6-7dba3fe75a50",
   "metadata": {
    "tags": []
   },
   "outputs": [
    {
     "name": "stderr",
     "output_type": "stream",
     "text": [
      "\u001b[32m2023-06-12 11:23:39.656\u001b[0m | \u001b[33m\u001b[1mWARNING \u001b[0m | \u001b[36mgdsfactory.pdk\u001b[0m:\u001b[36mget_active_pdk\u001b[0m:\u001b[36m603\u001b[0m - \u001b[33m\u001b[1mNo active PDK. Activating generic PDK.\n",
      "\u001b[0m\n"
     ]
    }
   ],
   "source": [
    "mzi = gf.components.mzi2x2_2x2()"
   ]
  },
  {
   "cell_type": "code",
   "execution_count": 3,
   "id": "6c6cdd96-2694-4ef3-85a3-03892ca5490c",
   "metadata": {},
   "outputs": [
    {
     "data": {
      "application/vnd.jupyter.widget-view+json": {
       "model_id": "5c4dbb265f1d45f7afc6640e7a5a43fd",
       "version_major": 2,
       "version_minor": 0
      },
      "text/plain": [
       "Image(value=b\"\\x89PNG\\r\\n\\x1a\\n\\x00\\x00\\x00\\rIHDR\\x00\\x00\\x03 \\x00\\x00\\x02X\\x08\\x02\\x00\\x00\\x00\\x15\\x14\\x15'\\x…"
      ]
     },
     "metadata": {},
     "output_type": "display_data"
    },
    {
     "name": "stdout",
     "output_type": "stream",
     "text": [
      "mzi_d46c281f: uid f2782ff6, ports ['o1', 'o2', 'o3', 'o4'], references ['bend_euler_1', 'bend_euler_2', 'bend_euler_3', 'bend_euler_4', 'bend_euler_5', 'bend_euler_6', 'straight_5', 'straight_6', 'straight_7', 'bend_euler_7', 'bend_euler_8', 'straight_8', 'straight_9', 'straight_10', 'sytl', 'syl', 'sxt', 'sxb', 'cp1', 'cp2'], 0 polygons\n"
     ]
    }
   ],
   "source": [
    "mzi"
   ]
  },
  {
   "cell_type": "markdown",
   "id": "d9b2bf00-e201-4a95-8897-6abd9434a529",
   "metadata": {},
   "source": [
    "Example conversion to a `gine` format"
   ]
  },
  {
   "cell_type": "code",
   "execution_count": 4,
   "id": "e02bde5c-5575-411d-8a7a-b74c1a86e9fe",
   "metadata": {
    "tags": []
   },
   "outputs": [],
   "source": [
    "gdsfactory_netlist = mzi.get_netlist()\n",
    "# gine.convert_gdsfactory_netlist(gdsfactory_netlist)"
   ]
  },
  {
   "cell_type": "markdown",
   "id": "8ea80bc8-9e0c-4f69-b825-b65afd143bf8",
   "metadata": {},
   "source": [
    "## Create Interactive Widget"
   ]
  },
  {
   "cell_type": "code",
   "execution_count": 5,
   "id": "15ebec67-2edc-4e24-b58a-7366f4a646c8",
   "metadata": {
    "tags": []
   },
   "outputs": [
    {
     "data": {
      "application/vnd.jupyter.widget-view+json": {
       "model_id": "5832254404d240328e69305b9cd22908",
       "version_major": 2,
       "version_minor": 0
      },
      "text/plain": [
       "NetlistGraph(netlist_graph_data={'nodes': [{'id': 'bend_euler_1', 'properties': {'component': 'bend_euler', 'i…"
      ]
     },
     "execution_count": 5,
     "metadata": {},
     "output_type": "execute_result"
    }
   ],
   "source": [
    "gine.interactive_netlist_graph(gdsfactory_netlist)"
   ]
  },
  {
   "cell_type": "code",
   "execution_count": 6,
   "id": "0d4774e2-6aa2-441c-9483-0e0292072021",
   "metadata": {},
   "outputs": [
    {
     "data": {
      "application/vnd.jupyter.widget-view+json": {
       "model_id": "a5897e514f2a45888806326895065153",
       "version_major": 2,
       "version_minor": 0
      },
      "text/plain": [
       "HelloWorld()"
      ]
     },
     "execution_count": 6,
     "metadata": {},
     "output_type": "execute_result"
    }
   ],
   "source": [
    "gine.HelloWorld()"
   ]
  }
 ],
 "metadata": {
  "kernelspec": {
   "display_name": "Python 3 (ipykernel)",
   "language": "python",
   "name": "python3"
  },
  "language_info": {
   "codemirror_mode": {
    "name": "ipython",
    "version": 3
   },
   "file_extension": ".py",
   "mimetype": "text/x-python",
   "name": "python",
   "nbconvert_exporter": "python",
   "pygments_lexer": "ipython3",
   "version": "3.10.10"
  }
 },
 "nbformat": 4,
 "nbformat_minor": 5
}
