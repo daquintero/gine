{
 "cells": [
  {
   "cell_type": "markdown",
   "id": "e79be93f-4f27-453e-964a-5fcaa657286f",
   "metadata": {},
   "source": [
    "# Get Started with `gine`"
   ]
  },
  {
   "cell_type": "markdown",
   "id": "b17359fd-60e2-4ac7-bff6-67e96e2d1bf9",
   "metadata": {},
   "source": [
    "## GDSFactory Integration"
   ]
  },
  {
   "cell_type": "code",
   "execution_count": 11,
   "id": "ef490c3c-7126-4c59-96cc-9be605e72ea4",
   "metadata": {
    "tags": []
   },
   "outputs": [],
   "source": [
    "import gdsfactory as gf\n",
    "import gine"
   ]
  },
  {
   "cell_type": "code",
   "execution_count": 12,
   "id": "6208d67a-4e2d-4a7e-b0e6-29a858dead1a",
   "metadata": {
    "tags": []
   },
   "outputs": [
    {
     "data": {
      "application/vnd.jupyter.widget-view+json": {
       "model_id": "db36276cb19d4fbab51c68d4ad28bb96",
       "version_major": 2,
       "version_minor": 0
      },
      "text/plain": [
       "HelloWorld()"
      ]
     },
     "metadata": {},
     "output_type": "display_data"
    }
   ],
   "source": [
    "gine.HelloWorld()"
   ]
  },
  {
   "cell_type": "markdown",
   "id": "5a3c1fba-10c1-40a4-90a5-7e9959a6fd31",
   "metadata": {},
   "source": [
    "Extract a component netlist:"
   ]
  },
  {
   "cell_type": "code",
   "execution_count": null,
   "id": "6a408a9a-4ca1-4540-aaf6-7dba3fe75a50",
   "metadata": {
    "tags": []
   },
   "outputs": [],
   "source": [
    "mzi = gf.components.mzi2x2_2x2()"
   ]
  },
  {
   "cell_type": "raw",
   "id": "af230e14-0e9a-4876-9e58-7b5eb1b0876f",
   "metadata": {},
   "source": [
    "mzi"
   ]
  },
  {
   "cell_type": "markdown",
   "id": "d9b2bf00-e201-4a95-8897-6abd9434a529",
   "metadata": {},
   "source": [
    "Example conversion to a `gine` format"
   ]
  },
  {
   "cell_type": "code",
   "execution_count": 3,
   "id": "e02bde5c-5575-411d-8a7a-b74c1a86e9fe",
   "metadata": {
    "tags": []
   },
   "outputs": [],
   "source": [
    "gdsfactory_netlist = mzi.get_netlist()\n",
    "# gine.convert_gdsfactory_netlist(gdsfactory_netlist)"
   ]
  },
  {
   "cell_type": "markdown",
   "id": "8ea80bc8-9e0c-4f69-b825-b65afd143bf8",
   "metadata": {},
   "source": [
    "## Create Interactive Widget"
   ]
  },
  {
   "cell_type": "code",
   "execution_count": 4,
   "id": "15ebec67-2edc-4e24-b58a-7366f4a646c8",
   "metadata": {
    "tags": []
   },
   "outputs": [
    {
     "data": {
      "application/vnd.jupyter.widget-view+json": {
       "model_id": "59d0612d98404320be7c9f088296dc06",
       "version_major": 2,
       "version_minor": 0
      },
      "text/plain": [
       "NetlistGraph(netlist_graph_data={'nodes': [{'id': 'bend_euler_1', 'properties': {'component': 'bend_euler', 'i…"
      ]
     },
     "metadata": {},
     "output_type": "display_data"
    }
   ],
   "source": [
    "gine.interactive_netlist_graph(gdsfactory_netlist)"
   ]
  },
  {
   "cell_type": "code",
   "execution_count": null,
   "id": "0d4774e2-6aa2-441c-9483-0e0292072021",
   "metadata": {},
   "outputs": [],
   "source": []
  }
 ],
 "metadata": {
  "kernelspec": {
   "display_name": "Python 3 (ipykernel)",
   "language": "python",
   "name": "python3"
  },
  "language_info": {
   "codemirror_mode": {
    "name": "ipython",
    "version": 3
   },
   "file_extension": ".py",
   "mimetype": "text/x-python",
   "name": "python",
   "nbconvert_exporter": "python",
   "pygments_lexer": "ipython3",
   "version": "3.10.10"
  }
 },
 "nbformat": 4,
 "nbformat_minor": 5
}
